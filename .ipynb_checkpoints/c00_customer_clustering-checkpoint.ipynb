{
 "cells": [
  {
   "cell_type": "markdown",
   "id": "0eaff543",
   "metadata": {},
   "source": [
    "# UK-High Value Customers Identification"
   ]
  },
  {
   "cell_type": "markdown",
   "id": "4602861b",
   "metadata": {},
   "source": [
    "## 0.0 Planning"
   ]
  },
  {
   "cell_type": "markdown",
   "id": "3190cd70",
   "metadata": {
    "tags": []
   },
   "source": [
    "### 0.0.1 Input"
   ]
  },
  {
   "cell_type": "markdown",
   "id": "38722ec0",
   "metadata": {},
   "source": [
    "1. Business Problem\n",
    "    * Select high value customers that will be eligible to a loyalty program.\n",
    "2. Dataset\n",
    "    * One year of sales data."
   ]
  },
  {
   "cell_type": "markdown",
   "id": "507c121c",
   "metadata": {
    "tags": []
   },
   "source": [
    "### 0.0.2 Output"
   ]
  },
  {
   "cell_type": "markdown",
   "id": "8c6d765b",
   "metadata": {},
   "source": [
    "\n",
    "1. Relation of clients elegible to the loyalty program.\n",
    "\n",
    "    client_id | is_elegible? |<br>\n",
    "     10323&emsp;&emsp;1<br>\n",
    "     32413&emsp;&emsp;0\n",
    "        \n",
    "        \n",
    "2. Report containing the answers to the business problems.\n",
    "\n",
    "    1. Who are the eligible customers for participating the loyalty program?\n",
    "    2. How many customers will be part of the program?\n",
    "    3. What are the main characteristics of these customers?\n",
    "    4. What is the percentage of contribution of the participants of this loyalty program?\n",
    "    5. What is the expected revenue of loyalty program to the next months?\n",
    "    6. In what conditions someone becomes elegible?\n",
    "    7. In what conditions someone becomes ineligible?\n",
    "    8. What guarantees the group chosen is better than a random cluster?\n",
    "    9. What actions can the marketing team take to increase revenue?"
   ]
  },
  {
   "cell_type": "markdown",
   "id": "d9b464a8",
   "metadata": {},
   "source": [
    "### 0.0.3 Tasks"
   ]
  },
  {
   "cell_type": "markdown",
   "id": "5cfe3315",
   "metadata": {},
   "source": [
    "1. Who are the eligible customers for participating the loyalty program?\n",
    "    - What eligible means? What is customer value?\n",
    "    - Revenue:\n",
    "        - High average ticket\n",
    "        - High LTV\n",
    "        - Low recency\n",
    "        - High basket size\n",
    "        - Low churn probability\n",
    "        - High LTV prediction\n",
    "        - High buying propensity\n",
    "    \n",
    "    \n",
    "    - Costs:\n",
    "        Low devolution rate\n",
    "        \n",
    "    - Shopping experience:\n",
    "        High average ratings\n",
    "        \n",
    "        \n",
    "2. How many customers will be part of the program?\n",
    "    - % of customers in eligible to the loyalty program\n",
    "\n",
    "\n",
    "3. What are the main characteristics of these customers\n",
    "    - Customer characteristics\n",
    "    - Consumption characteristics\n",
    "\n",
    "\n",
    "4. What is the percentage of contribution of the participants of this loyalty program?\n",
    "    - Total revenue\n",
    "    - Total of eligible customers' revenue\n",
    "\n",
    "\n",
    "5. What is the expected revenue of loyalty program to the next months?\n",
    "    - LTV of the eligible customers\n",
    "    - Cohort analysis\n",
    "\n",
    "\n",
    "6. In what conditions someone becomes elegible?\n",
    "    - Define periodicity\n",
    "    - The person needs to be similar to the eligible people\n",
    "\n",
    "\n",
    "7. In what conditions someone becomes ineligible?\n",
    "    - Define periodicity\n",
    "    - The person needs to be dissimilar to the eligible people\n",
    "\n",
    "\n",
    "8. What guarantees the group chosen is better than a random cluster?\n",
    "    - A/B test\n",
    "    - A/B Bayesian test\n",
    "    - Hyphotesis test\n",
    "\n",
    "\n",
    "9. What actions can the marketing team take to increase revenue?\n",
    "    - Discount\n",
    "    - Purchase preference\n",
    "    - Free Shipping\n",
    "    - Company tour"
   ]
  },
  {
   "cell_type": "markdown",
   "id": "6f40033a",
   "metadata": {},
   "source": [
    "## 0.0.4 Benchmark"
   ]
  },
  {
   "cell_type": "markdown",
   "id": "758f7fce",
   "metadata": {},
   "source": [
    "1. RFM Model"
   ]
  },
  {
   "cell_type": "markdown",
   "id": "4c695de5",
   "metadata": {},
   "source": [
    "# 0.0 Libraries"
   ]
  },
  {
   "cell_type": "code",
   "execution_count": 32,
   "id": "fe07b30c",
   "metadata": {},
   "outputs": [],
   "source": [
    "import numpy as np\n",
    "import pandas as pd\n",
    "import seaborn as sns\n",
    "\n",
    "from matplotlib import pyplot as plt\n",
    "from IPython.display import HTML\n",
    "\n",
    "from sklearn.cluster import KMeans\n",
    "from yellowbrick.cluster import KElbowVisualizer"
   ]
  },
  {
   "cell_type": "markdown",
   "id": "b33620b5",
   "metadata": {},
   "source": [
    "## 0.1 Helper Functions"
   ]
  },
  {
   "cell_type": "code",
   "execution_count": 2,
   "id": "b3ab9759",
   "metadata": {},
   "outputs": [
    {
     "name": "stdout",
     "output_type": "stream",
     "text": [
      "Populating the interactive namespace from numpy and matplotlib\n"
     ]
    },
    {
     "data": {
      "text/html": [
       "<style>.container { width:100% !important; }</style>"
      ],
      "text/plain": [
       "<IPython.core.display.HTML object>"
      ]
     },
     "metadata": {},
     "output_type": "display_data"
    }
   ],
   "source": [
    "def jupyter_settings():\n",
    "    %matplotlib inline\n",
    "    %pylab inline\n",
    "    plt.style.use('bmh')\n",
    "    plt.rcParams['figure.figsize'] = [25, 12]\n",
    "    plt.rcParams['font.size'] = 24\n",
    "    display( HTML( '<style>.container { width:100% !important; }</style>') )\n",
    "    pd.options.display.max_columns = None\n",
    "    pd.options.display.max_rows = None\n",
    "    pd.set_option( 'display.expand_frame_repr', False )\n",
    "    sns.set()\n",
    "    \n",
    "jupyter_settings()"
   ]
  },
  {
   "cell_type": "markdown",
   "id": "5d3ffa13",
   "metadata": {},
   "source": [
    "## 0.2 Load dataset"
   ]
  },
  {
   "cell_type": "code",
   "execution_count": 3,
   "id": "280bb1cb",
   "metadata": {},
   "outputs": [],
   "source": [
    "df_raw = pd.read_csv('data/Ecommerce.csv', sep=',', decimal='.')"
   ]
  },
  {
   "cell_type": "code",
   "execution_count": 4,
   "id": "121f19d5",
   "metadata": {
    "scrolled": true
   },
   "outputs": [],
   "source": [
    "df_raw.drop(columns=['Unnamed: 8'], inplace=True)"
   ]
  },
  {
   "cell_type": "markdown",
   "id": "2fe5f148",
   "metadata": {},
   "source": [
    "# 1.0 Data description"
   ]
  },
  {
   "cell_type": "code",
   "execution_count": 5,
   "id": "b2780570-b976-45c4-bf56-405290085e6b",
   "metadata": {},
   "outputs": [],
   "source": [
    "df1 = df_raw.copy()"
   ]
  },
  {
   "cell_type": "markdown",
   "id": "8048e8f6",
   "metadata": {},
   "source": [
    "## 1.1 Rename columns"
   ]
  },
  {
   "cell_type": "code",
   "execution_count": 6,
   "id": "0926ca13-0de4-4134-82b7-928342416ba4",
   "metadata": {},
   "outputs": [
    {
     "data": {
      "text/plain": [
       "Index(['InvoiceNo', 'StockCode', 'Description', 'Quantity', 'InvoiceDate',\n",
       "       'UnitPrice', 'CustomerID', 'Country'],\n",
       "      dtype='object')"
      ]
     },
     "execution_count": 6,
     "metadata": {},
     "output_type": "execute_result"
    }
   ],
   "source": [
    "df1.columns"
   ]
  },
  {
   "cell_type": "code",
   "execution_count": 7,
   "id": "77ff26f5-39d2-4a02-b275-f0340755a102",
   "metadata": {},
   "outputs": [],
   "source": [
    "cols_new = ['invoice_no', 'stock_code', 'description', 'quantity', 'invoice_date', 'unit_price', 'customer_id', 'country']\n",
    "df1.columns = cols_new"
   ]
  },
  {
   "cell_type": "markdown",
   "id": "f9a462ef",
   "metadata": {},
   "source": [
    "## 1.2 Data dimensions"
   ]
  },
  {
   "cell_type": "code",
   "execution_count": 8,
   "id": "638f6734-8a22-4990-a046-a469bf9badbc",
   "metadata": {},
   "outputs": [
    {
     "name": "stdout",
     "output_type": "stream",
     "text": [
      "The dataset has 541909 rows and 8 columns.\n"
     ]
    }
   ],
   "source": [
    "print('The dataset has {} rows and {} columns.'.format(*df1.shape))"
   ]
  },
  {
   "cell_type": "markdown",
   "id": "19fa19e3",
   "metadata": {},
   "source": [
    "## 1.3 Data types"
   ]
  },
  {
   "cell_type": "code",
   "execution_count": 9,
   "id": "b5169760-aecd-4095-92a9-b63fac29f4a8",
   "metadata": {},
   "outputs": [
    {
     "data": {
      "text/plain": [
       "invoice_no       object\n",
       "stock_code       object\n",
       "description      object\n",
       "quantity          int64\n",
       "invoice_date     object\n",
       "unit_price      float64\n",
       "customer_id     float64\n",
       "country          object\n",
       "dtype: object"
      ]
     },
     "execution_count": 9,
     "metadata": {},
     "output_type": "execute_result"
    }
   ],
   "source": [
    "df1.dtypes"
   ]
  },
  {
   "cell_type": "markdown",
   "id": "00572984",
   "metadata": {},
   "source": [
    "## 1.4 Check NANs"
   ]
  },
  {
   "cell_type": "code",
   "execution_count": 10,
   "id": "8e64f559-22ac-4d5e-9aa0-43a937a9fd21",
   "metadata": {},
   "outputs": [
    {
     "data": {
      "text/plain": [
       "invoice_no           0\n",
       "stock_code           0\n",
       "description       1454\n",
       "quantity             0\n",
       "invoice_date         0\n",
       "unit_price           0\n",
       "customer_id     135080\n",
       "country              0\n",
       "dtype: int64"
      ]
     },
     "execution_count": 10,
     "metadata": {},
     "output_type": "execute_result"
    }
   ],
   "source": [
    "df1.isna().sum()"
   ]
  },
  {
   "cell_type": "markdown",
   "id": "4fa1cc2c",
   "metadata": {},
   "source": [
    "## 1.5 Replace NANs"
   ]
  },
  {
   "cell_type": "code",
   "execution_count": 11,
   "id": "fc06d922-5d7f-4fa6-b74f-623a7c87d880",
   "metadata": {},
   "outputs": [],
   "source": [
    "df1 = df1.dropna(subset=['description', 'customer_id'])"
   ]
  },
  {
   "cell_type": "code",
   "execution_count": 12,
   "id": "985bb299-fe0a-4d45-b117-a33908fc7459",
   "metadata": {},
   "outputs": [
    {
     "name": "stdout",
     "output_type": "stream",
     "text": [
      "# of 541909 rows before and # of 406829 rows after 'dropna'. We removed 24.93% of rows of the dataset.\n"
     ]
    }
   ],
   "source": [
    "print('# of {} rows before and # of {} rows after \\'dropna\\'. We removed {:.2f}% of rows of the dataset.'.format(df_raw.shape[0], df1.shape[0], (1-df1.shape[0]/df_raw.shape[0])*100))"
   ]
  },
  {
   "cell_type": "code",
   "execution_count": 13,
   "id": "970dd4fd-926d-41dc-b6c3-d8e91b289954",
   "metadata": {},
   "outputs": [
    {
     "data": {
      "text/plain": [
       "invoice_no      0\n",
       "stock_code      0\n",
       "description     0\n",
       "quantity        0\n",
       "invoice_date    0\n",
       "unit_price      0\n",
       "customer_id     0\n",
       "country         0\n",
       "dtype: int64"
      ]
     },
     "execution_count": 13,
     "metadata": {},
     "output_type": "execute_result"
    }
   ],
   "source": [
    "df1.isna().sum()"
   ]
  },
  {
   "cell_type": "markdown",
   "id": "a10b01b4",
   "metadata": {},
   "source": [
    "## 1.6 Change data types"
   ]
  },
  {
   "cell_type": "code",
   "execution_count": 14,
   "id": "be364141-c285-4d7a-8d31-1bcdc7b71e46",
   "metadata": {},
   "outputs": [],
   "source": [
    "df1['invoice_date'] = pd.to_datetime(df1['invoice_date'], format='%d-%b-%y')"
   ]
  },
  {
   "cell_type": "code",
   "execution_count": 15,
   "id": "afc1ebb1-d539-419c-88cc-b1d8b7464c0f",
   "metadata": {},
   "outputs": [],
   "source": [
    "df1['customer_id'] = df1['customer_id'].astype(int)"
   ]
  },
  {
   "cell_type": "markdown",
   "id": "e7fd98f1",
   "metadata": {},
   "source": [
    "## 1.7 Descriptive statistics"
   ]
  },
  {
   "cell_type": "markdown",
   "id": "0db84c5c",
   "metadata": {},
   "source": [
    "# 2.0 Feature engineering"
   ]
  },
  {
   "cell_type": "code",
   "execution_count": 67,
   "id": "6c290e71-e71f-488c-b817-5ecd0a4a99e1",
   "metadata": {},
   "outputs": [],
   "source": [
    "df2 = df1.copy()"
   ]
  },
  {
   "cell_type": "code",
   "execution_count": 68,
   "id": "bb8937eb-27ae-4e76-ba3f-4be833da2d94",
   "metadata": {},
   "outputs": [],
   "source": [
    "df_ref = df2.drop(['invoice_no', 'stock_code', 'description', 'quantity', 'invoice_date', 'unit_price', 'country'], axis=1).drop_duplicates(ignore_index=True)"
   ]
  },
  {
   "cell_type": "code",
   "execution_count": 27,
   "id": "176ee396-50d3-4bbf-8bb8-aeddb1e2dc73",
   "metadata": {},
   "outputs": [],
   "source": [
    "# Gross Revenue = Quantity * Price\n",
    "df2['gross_revenue'] = df2['quantity'] * df2['unit_price']\n",
    "\n",
    "# Monetary\n",
    "df_monetary = df2[['customer_id', 'gross_revenue']].groupby('customer_id').sum().reset_index()\n",
    "df_ref = pd.merge(df_ref, df_monetary, on='customer_id', how='left')\n",
    "\n",
    "# Recency\n",
    "df_recency = df2[['customer_id', 'invoice_date']].groupby('customer_id').max().reset_index()\n",
    "df_recency['recency_days'] = (df2['invoice_date'].max()-df_recency['invoice_date']).dt.days\n",
    "df_recency = df_recency[['customer_id', 'recency_days']].copy()\n",
    "df_ref = pd.merge(df_ref, df_recency, on='customer_id', how='left')\n",
    "\n",
    "# Frequency\n",
    "df_freq = df2[['customer_id', 'invoice_no']].drop_duplicates().groupby('customer_id').count().reset_index()\n",
    "df_ref = pd.merge(df_ref, df_freq, on='customer_id', how='left')"
   ]
  },
  {
   "cell_type": "markdown",
   "id": "8cf67272",
   "metadata": {},
   "source": [
    "# 3.0 Data filtering"
   ]
  },
  {
   "cell_type": "code",
   "execution_count": null,
   "id": "fbbe8d86-0634-4130-9aca-e8f28c085726",
   "metadata": {},
   "outputs": [],
   "source": [
    "#df3"
   ]
  },
  {
   "cell_type": "markdown",
   "id": "0cd9981f",
   "metadata": {},
   "source": [
    "# 4.0 Exploratory Data Analysis"
   ]
  },
  {
   "cell_type": "code",
   "execution_count": null,
   "id": "a782ddde-6fc4-4274-a29f-3827e3e7ea4e",
   "metadata": {},
   "outputs": [],
   "source": [
    "#df4"
   ]
  },
  {
   "cell_type": "markdown",
   "id": "d66ced79-cf63-48eb-9c88-55a990b0cd36",
   "metadata": {},
   "source": [
    "# 5.0 Data Preparation"
   ]
  },
  {
   "cell_type": "code",
   "execution_count": null,
   "id": "47120f8b-4cce-4f04-a0a9-c56c1da6d08e",
   "metadata": {},
   "outputs": [],
   "source": [
    "#df5"
   ]
  },
  {
   "cell_type": "markdown",
   "id": "a9772ec7",
   "metadata": {},
   "source": [
    "# 6.0 Feature selection"
   ]
  },
  {
   "cell_type": "code",
   "execution_count": null,
   "id": "579f9460-9ecc-4e23-9481-902b3ca3211a",
   "metadata": {},
   "outputs": [],
   "source": [
    "#df6"
   ]
  },
  {
   "cell_type": "markdown",
   "id": "dcd9601d",
   "metadata": {},
   "source": [
    "# 7.0 Hyper-parameter fine-tuning"
   ]
  },
  {
   "cell_type": "code",
   "execution_count": 76,
   "id": "4451db89-8f5e-4e63-b352-5383e1c11db3",
   "metadata": {},
   "outputs": [],
   "source": [
    "#X = df6.drop(columns=['customer_id'])\n",
    "X = df_ref.drop(columns=['customer_id'])"
   ]
  },
  {
   "cell_type": "code",
   "execution_count": 77,
   "id": "0890e75a-86c9-4eef-8ac1-9ed335559ec5",
   "metadata": {},
   "outputs": [],
   "source": [
    "clusters = [2,3,5,9,13,15]"
   ]
  },
  {
   "cell_type": "markdown",
   "id": "e31b7aa6-297c-4a8f-8b60-6c35724648aa",
   "metadata": {},
   "source": [
    "## 7.1 Withing-Cluster Sum of Squares (WSS)"
   ]
  },
  {
   "cell_type": "code",
   "execution_count": 79,
   "id": "47581100-0870-4784-bff4-a9b6e879c617",
   "metadata": {},
   "outputs": [
    {
     "data": {
      "image/png": "[encoded data removed]",
      "text/plain": [
       "<Figure size 576x396 with 1 Axes>"
      ]
     },
     "metadata": {},
     "output_type": "display_data"
    }
   ],
   "source": [
    "wss = []\n",
    "for k in clusters:\n",
    "    kmeans = KMeans(init='random', n_clusters=k, n_init=10, max_iter=300, random_state=42)\n",
    "    kmeans.fit(X)\n",
    "    wss.append(kmeans.inertia_)\n",
    "\n",
    "plt.plot(clusters, wss, linestyle='--', marker='o', color='b')\n",
    "plt.xlabel('K')\n",
    "plt.ylabel('Within-Cluster Sum of Square')\n",
    "plt.title('WSS vs K');"
   ]
  },
  {
   "cell_type": "code",
   "execution_count": 80,
   "id": "fa06cbdc-9874-4c19-8dd8-12496f2305f2",
   "metadata": {},
   "outputs": [
    {
     "data": {
      "image/png": "[encoded data removed]",
      "text/plain": [
       "<Figure size 576x396 with 1 Axes>"
      ]
     },
     "metadata": {},
     "output_type": "display_data"
    },
    {
     "data": {
      "text/plain": [
       "<AxesSubplot:title={'center':'Distortion Score Elbow for KMeans Clustering'}, xlabel='k', ylabel='distortion score'>"
      ]
     },
     "execution_count": 80,
     "metadata": {},
     "output_type": "execute_result"
    }
   ],
   "source": [
    "kmeans = KElbowVisualizer(KMeans(), k=clusters, timings=False)\n",
    "kmeans.fit(X)\n",
    "kmeans.show();"
   ]
  },
  {
   "cell_type": "code",
   "execution_count": 83,
   "id": "fa4639ca-0d54-48e7-86a9-4583be6f6fac",
   "metadata": {},
   "outputs": [
    {
     "data": {
      "image/png": "[encoded data removed]",
      "text/plain": [
       "<Figure size 576x396 with 1 Axes>"
      ]
     },
     "metadata": {},
     "output_type": "display_data"
    }
   ],
   "source": [
    "kmeans = KElbowVisualizer(KMeans(), metric='silhouette', k=clusters, timings=False)\n",
    "kmeans.fit(X)\n",
    "kmeans.show();"
   ]
  },
  {
   "cell_type": "markdown",
   "id": "f32c55e6-77a5-4618-8c2d-20c9a478f2ba",
   "metadata": {},
   "source": [
    "## 7.2 Silhouette Score"
   ]
  },
  {
   "cell_type": "markdown",
   "id": "f66caa44",
   "metadata": {},
   "source": [
    "# 8.0 Model training"
   ]
  },
  {
   "cell_type": "markdown",
   "id": "0856c378",
   "metadata": {},
   "source": [
    "# 9.0 Cluster analysis"
   ]
  },
  {
   "cell_type": "markdown",
   "id": "f5d34e2e",
   "metadata": {},
   "source": [
    "# 10.0 Deploy"
   ]
  },
  {
   "cell_type": "code",
   "execution_count": null,
   "id": "9ffc551e",
   "metadata": {},
   "outputs": [],
   "source": []
  }
 ],
 "metadata": {
  "kernelspec": {
   "display_name": "Python 3 (ipykernel)",
   "language": "python",
   "name": "python3"
  },
  "language_info": {
   "codemirror_mode": {
    "name": "ipython",
    "version": 3
   },
   "file_extension": ".py",
   "mimetype": "text/x-python",
   "name": "python",
   "nbconvert_exporter": "python",
   "pygments_lexer": "ipython3",
   "version": "3.8.5"
  }
 },
 "nbformat": 4,
 "nbformat_minor": 5
}
